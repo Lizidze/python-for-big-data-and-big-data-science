{
  "nbformat": 4,
  "nbformat_minor": 0,
  "metadata": {
    "colab": {
      "provenance": [],
      "include_colab_link": true
    },
    "kernelspec": {
      "name": "python3",
      "display_name": "Python 3"
    },
    "language_info": {
      "name": "python"
    }
  },
  "cells": [
    {
      "cell_type": "markdown",
      "metadata": {
        "id": "view-in-github",
        "colab_type": "text"
      },
      "source": [
        "<a href=\"https://colab.research.google.com/github/Lizidze/python-for-big-data-and-big-data-science/blob/master/python_practice_5_2025.ipynb\" target=\"_parent\"><img src=\"https://colab.research.google.com/assets/colab-badge.svg\" alt=\"Open In Colab\"/></a>"
      ]
    },
    {
      "cell_type": "markdown",
      "source": [
        "# I. OOP"
      ],
      "metadata": {
        "id": "5qV_sehzFCTp"
      }
    },
    {
      "cell_type": "markdown",
      "source": [
        "1. (6б). Створіть клас Building, додайте три атрибути, один з яких має значення за замовчуванням та два методи на свій розсуд."
      ],
      "metadata": {
        "id": "tx_U_hOALyfg"
      }
    },
    {
      "cell_type": "code",
      "source": [
        "class Building:\n",
        "  def __init__(self, size, material, floors=1):\n",
        "     self.size = size if size > 0 else 1\n",
        "     self.material = material\n",
        "     self.floors = floors\n",
        "\n",
        "  def show_info(self):\n",
        "        print(f\"Будівля з {self.floors} поверхами, матеріал: {self.material}, площа: {self.size}.\")\n",
        "\n",
        "  def add_floor(self):\n",
        "        self.floors += 1\n",
        "        print(f\"Додано поверх. Тепер будівля має {self.floors} поверхів.\")\n"
      ],
      "metadata": {
        "id": "-Vf895KaL88N"
      },
      "execution_count": 3,
      "outputs": []
    },
    {
      "cell_type": "markdown",
      "source": [
        "2. (2б). Створіть два обʼєкти цього класу, де один з обʼєктів створюється із дефолтним значенням атрибуту. На одному обʼєкті отримайте значення його атрибуту, а на іншому викличте один з його методів."
      ],
      "metadata": {
        "id": "X_UlOMB0L93w"
      }
    },
    {
      "cell_type": "code",
      "source": [
        "class Building:\n",
        "  def __init__(self, size, material, floors=1):\n",
        "     self.size = size if size > 0 else 1\n",
        "     self.material = material\n",
        "     self.floors = floors\n",
        "\n",
        "  def show_info(self):\n",
        "        print(f\"Будівля з {self.floors} поверхами, матеріал: {self.material}, площа: {self.size}.\")\n",
        "\n",
        "  def add_floor(self):\n",
        "        self.floors += 1\n",
        "        print(f\"Додано поверх. Тепер будівля має {self.floors} поверхів.\")\n",
        "\n",
        "\n",
        "building1 = Building(120, \"бетон\", 5)\n",
        "\n",
        "building2 = Building(80, \"цегла\")\n",
        "\n",
        "print(\"Площа будівлі 1 - \", building1.size)\n",
        "building2.add_floor()"
      ],
      "metadata": {
        "colab": {
          "base_uri": "https://localhost:8080/"
        },
        "id": "9k6qrZNhCE9c",
        "outputId": "6634fc9d-1ad9-4bda-9184-900d9304ff8d"
      },
      "execution_count": 5,
      "outputs": [
        {
          "output_type": "stream",
          "name": "stdout",
          "text": [
            "Площа будівлі 1 -  120\n",
            "Додано поверх. Тепер будівля має 2 поверхів.\n"
          ]
        }
      ]
    },
    {
      "cell_type": "markdown",
      "source": [
        "3. (5б). Створіть клас, де атрибути мають різні рівні доступу. Спробуйте отримати їхні значення та опишіть результати."
      ],
      "metadata": {
        "id": "HoqSCZt1MHn5"
      }
    },
    {
      "cell_type": "code",
      "source": [
        "class ExampleClass:\n",
        "    def __init__(self, public, protected, private):\n",
        "        self.public = public\n",
        "        self.__protected = protected\n",
        "        self.__private = private\n",
        "\n",
        "    def get_protected(self):\n",
        "        return self.__protected\n",
        "\n",
        "    def get_private(self):\n",
        "        return self.__private\n",
        "\n",
        "example = ExampleClass(\"публічне\", \"захищене\", \"приватне\")\n",
        "\n",
        "print(\"Публічний - \", example.public)\n",
        "\n",
        "print(\"Захищений - \", example.__protected)\n",
        "\n",
        "print(\"Приватний - \", example.__private)"
      ],
      "metadata": {
        "id": "r9b3vJxBMSPV",
        "colab": {
          "base_uri": "https://localhost:8080/",
          "height": 228
        },
        "outputId": "bbb0e15d-ea25-4b44-9b78-c5a5804c52e5"
      },
      "execution_count": 6,
      "outputs": [
        {
          "output_type": "stream",
          "name": "stdout",
          "text": [
            "Публічний -  публічне\n"
          ]
        },
        {
          "output_type": "error",
          "ename": "AttributeError",
          "evalue": "'ExampleClass' object has no attribute '__protected'",
          "traceback": [
            "\u001b[0;31m---------------------------------------------------------------------------\u001b[0m",
            "\u001b[0;31mAttributeError\u001b[0m                            Traceback (most recent call last)",
            "\u001b[0;32m<ipython-input-6-a470f55f53fb>\u001b[0m in \u001b[0;36m<cell line: 0>\u001b[0;34m()\u001b[0m\n\u001b[1;32m     15\u001b[0m \u001b[0mprint\u001b[0m\u001b[0;34m(\u001b[0m\u001b[0;34m\"Публічний - \"\u001b[0m\u001b[0;34m,\u001b[0m \u001b[0mexample\u001b[0m\u001b[0;34m.\u001b[0m\u001b[0mpublic\u001b[0m\u001b[0;34m)\u001b[0m\u001b[0;34m\u001b[0m\u001b[0;34m\u001b[0m\u001b[0m\n\u001b[1;32m     16\u001b[0m \u001b[0;34m\u001b[0m\u001b[0m\n\u001b[0;32m---> 17\u001b[0;31m \u001b[0mprint\u001b[0m\u001b[0;34m(\u001b[0m\u001b[0;34m\"Захищений - \"\u001b[0m\u001b[0;34m,\u001b[0m \u001b[0mexample\u001b[0m\u001b[0;34m.\u001b[0m\u001b[0m__protected\u001b[0m\u001b[0;34m)\u001b[0m\u001b[0;34m\u001b[0m\u001b[0;34m\u001b[0m\u001b[0m\n\u001b[0m\u001b[1;32m     18\u001b[0m \u001b[0;34m\u001b[0m\u001b[0m\n\u001b[1;32m     19\u001b[0m \u001b[0mprint\u001b[0m\u001b[0;34m(\u001b[0m\u001b[0;34m\"Приватний - \"\u001b[0m\u001b[0;34m,\u001b[0m \u001b[0mexample\u001b[0m\u001b[0;34m.\u001b[0m\u001b[0m__private\u001b[0m\u001b[0;34m)\u001b[0m\u001b[0;34m\u001b[0m\u001b[0;34m\u001b[0m\u001b[0m\n",
            "\u001b[0;31mAttributeError\u001b[0m: 'ExampleClass' object has no attribute '__protected'"
          ]
        }
      ]
    },
    {
      "cell_type": "markdown",
      "source": [
        "4. (7б). Як ви розумієте термін self? Для чого використовується метод __init __?"
      ],
      "metadata": {
        "id": "5op2m2vgMSkZ"
      }
    },
    {
      "cell_type": "markdown",
      "source": [
        "Self це майбутня змінна.  init це службова функція що ініціалізує об'єкти за їх атрибутами"
      ],
      "metadata": {
        "id": "DyiPqNRvMasx"
      }
    },
    {
      "cell_type": "markdown",
      "source": [
        "5. (9б). Створіть клас 3D-фігура без атрибутів, з методом get_volume для отримання об'єму фігури, що повертає 0 та __add __, який приймає self та other в якості аргументів, а повертає суму об'ємів 3d-фігур self та other."
      ],
      "metadata": {
        "id": "-6X8EGfjMd2y"
      }
    },
    {
      "cell_type": "code",
      "source": [
        "class ThreeDFigure:\n",
        "    def get_volume(self):\n",
        "        return 0\n",
        "\n",
        "    def __add__(self, other):\n",
        "        if isinstance(other, ThreeDFigure):\n",
        "            return self.get_volume() + other.get_volume()\n",
        "        raise TypeError(\"Можна додавати лише об'єкти класу ThreeDFigure\")\n",
        "\n",
        "figure1 = ThreeDFigure()\n",
        "figure2 = ThreeDFigure()\n",
        "\n",
        "# Додаємо дві фігури\n",
        "result = figure1 + figure2\n",
        "\n",
        "# Вивід результату\n",
        "print(\"Сума об'ємів фігур - \", result)\n",
        "\n"
      ],
      "metadata": {
        "id": "4rvO_wYUMaEr",
        "colab": {
          "base_uri": "https://localhost:8080/"
        },
        "outputId": "77d6f92b-60df-4fbf-b88a-9d6df315bd21"
      },
      "execution_count": 8,
      "outputs": [
        {
          "output_type": "stream",
          "name": "stdout",
          "text": [
            "Сума об'ємів фігур -  0\n"
          ]
        }
      ]
    },
    {
      "cell_type": "markdown",
      "source": [
        "6. (11б). Створіть 2 дочірніх класи від 3d-фігура: Циліндр та Куб, які мають атрибути, необхідні для розрахунку об'єму. Визначте метод get_volume в кожному з них так, щоби вони розраховували об'єм у залежності від формули для кожного типу фігури. Створіть обʼєкт класу Циліндр та обʼєкт класу Куб. Виконайте операцію суми за допомогою оператора + між ними, аби знайти сумарний об'єм."
      ],
      "metadata": {
        "id": "SFcKnnv5Mo_z"
      }
    },
    {
      "cell_type": "code",
      "source": [
        "import math\n",
        "\n",
        "class ThreeDFigure:\n",
        "    def get_volume(self):\n",
        "        return 0\n",
        "\n",
        "    def __add__(self, other):\n",
        "        if isinstance(other, ThreeDFigure):\n",
        "            return self.get_volume() + other.get_volume()\n",
        "        raise TypeError(\"Можна додавати лише об'єкти класу ThreeDFigure\")\n",
        "\n",
        "\n",
        "class Cylinder(ThreeDFigure):\n",
        "    def __init__(self, radius, height):\n",
        "        self.radius = radius\n",
        "        self.height = height\n",
        "\n",
        "    def get_volume(self):\n",
        "        return math.pi * self.radius ** 2 * self.height\n",
        "\n",
        "class Cube(ThreeDFigure):\n",
        "    def __init__(self, side):\n",
        "        self.side = side\n",
        "\n",
        "    def get_volume(self):\n",
        "        return self.side ** 3\n",
        "\n",
        "cylinder = Cylinder(radius=3, height=5)\n",
        "cube = Cube(side=4)\n",
        "\n",
        "\n",
        "total_volume = cylinder + cube\n",
        "\n",
        "print(\"Об'єм циліндра - \", round(cylinder.get_volume(), 2))\n",
        "print(\"Об'єм куба - \", round(cube.get_volume(), 2))\n",
        "print(\"Сума об'ємів - \", round(total_volume, 2))"
      ],
      "metadata": {
        "id": "H3GVNr69Muf3",
        "colab": {
          "base_uri": "https://localhost:8080/"
        },
        "outputId": "04ddf444-af2a-46d0-f637-c402a69bff1c"
      },
      "execution_count": 9,
      "outputs": [
        {
          "output_type": "stream",
          "name": "stdout",
          "text": [
            "Об'єм циліндра -  141.37\n",
            "Об'єм куба -  64\n",
            "Сума об'ємів -  205.37\n"
          ]
        }
      ]
    },
    {
      "cell_type": "markdown",
      "source": [
        "7. (3б). Продемонструйте різницю між isinstance та issubclass."
      ],
      "metadata": {
        "id": "HCvR206YMvLK"
      }
    },
    {
      "cell_type": "code",
      "source": [
        "class Animal:\n",
        "    pass\n",
        "\n",
        "class Dog(Animal):\n",
        "    pass\n",
        "\n",
        "\n",
        "dog = Dog()\n",
        "cat = Animal()\n",
        "\n",
        "print(isinstance(dog, Dog))\n",
        "print(isinstance(dog, Animal))\n",
        "print(isinstance(cat, Dog))\n",
        "\n",
        "print(issubclass(Dog, Animal))\n",
        "print(issubclass(Animal, Dog))\n",
        "print(issubclass(Dog, Dog))"
      ],
      "metadata": {
        "id": "L_V1bBvDM0GN",
        "colab": {
          "base_uri": "https://localhost:8080/"
        },
        "outputId": "e41a8573-b1f7-4913-d287-9de0a7ea7f7a"
      },
      "execution_count": 10,
      "outputs": [
        {
          "output_type": "stream",
          "name": "stdout",
          "text": [
            "True\n",
            "True\n",
            "False\n",
            "True\n",
            "False\n",
            "True\n"
          ]
        }
      ]
    },
    {
      "cell_type": "markdown",
      "source": [
        "8. (13б). Створіть клас EWallet з приватними атрибутами balance та id. Реалізуйте методи поповнення та зняття коштів, забезпечивши належну інкапсуляцію. Підказка: використовуйте декоратори property та setter."
      ],
      "metadata": {
        "id": "jjsaBZ-iM0Qq"
      }
    },
    {
      "cell_type": "code",
      "source": [
        "class EWallet:\n",
        "    def __init__(self, wallet_id, initial_balance=0):\n",
        "        self.__id = wallet_id\n",
        "        self.__balance = initial_balance\n",
        "\n",
        "    @property\n",
        "    def balance(self):\n",
        "        return self.__balance\n",
        "\n",
        "    @property\n",
        "    def wallet_id(self):\n",
        "        return self.__id\n",
        "\n",
        "    def deposit(self, amount):\n",
        "        if amount > 0:\n",
        "            self.__balance += amount\n",
        "            print(f\" Поповнення на {amount}. Новий баланс: {self.__balance}\")\n",
        "        else:\n",
        "            print(\"Сума має бути більше 0!\")\n",
        "\n",
        "    def withdraw(self, amount):\n",
        "        if 0 < amount <= self.__balance:\n",
        "            self.__balance -= amount\n",
        "            print(f\"Знято {amount}. Новий баланс: {self.__balance}\")\n",
        "        else:\n",
        "            print(\"Недостатньо коштів або некоректна сума\")\n",
        "\n",
        "wallet = EWallet(\"ABC123\", 100)\n",
        "\n",
        "print(\"ID гаманця:\", wallet.wallet_id)\n",
        "\n",
        "print(\"Поточний баланс:\", wallet.balance)\n",
        "\n",
        "wallet.deposit(50)\n",
        "\n",
        "wallet.withdraw(30)\n",
        "\n",
        "wallet.withdraw(200)"
      ],
      "metadata": {
        "id": "xCvZ7lh8M7YA",
        "colab": {
          "base_uri": "https://localhost:8080/"
        },
        "outputId": "55bd6809-619e-482f-d2bc-3b01d4474678"
      },
      "execution_count": 11,
      "outputs": [
        {
          "output_type": "stream",
          "name": "stdout",
          "text": [
            "ID гаманця: ABC123\n",
            "Поточний баланс: 100\n",
            " Поповнення на 50. Новий баланс: 150\n",
            "Знято 30. Новий баланс: 120\n",
            "Недостатньо коштів або некоректна сума\n"
          ]
        }
      ]
    },
    {
      "cell_type": "markdown",
      "source": [
        "9. (11б). Створіть клас ShoppingCart, який містить список об'єктів типу Item. Реалізуйте методи для додавання айтемів, їх видалення та відображення списку айтемів."
      ],
      "metadata": {
        "id": "tIzL2SJTM8ft"
      }
    },
    {
      "cell_type": "code",
      "source": [
        "class Item:\n",
        "    def __init__(self, name, price):\n",
        "        self.name = name\n",
        "        self.price = price\n",
        "\n",
        "    def __str__(self):\n",
        "        return f\"{self.name}: ${self.price:.2f}\"\n",
        "\n",
        "class ShoppingCart:\n",
        "    def __init__(self):\n",
        "        self.items = []\n",
        "\n",
        "    def add_item(self, item):\n",
        "        self.items.append(item)\n",
        "        print(f\"Додано: {item}\")\n",
        "\n",
        "    def remove_item(self, item_name):\n",
        "        for item in self.items:\n",
        "            if item.name == item_name:\n",
        "                self.items.remove(item)\n",
        "                print(f\"Видалено: {item}\")\n",
        "                return\n",
        "        print(f\"Товар '{item_name}' не знайдено у кошику\")\n",
        "\n",
        "    def show_items(self):\n",
        "        if not self.items:\n",
        "            print(\"Кошик порожній\")\n",
        "        else:\n",
        "            print(\"Товари у кошику:\")\n",
        "            for item in self.items:\n",
        "                print(f\" - {item}\")\n",
        "\n",
        "cart = ShoppingCart()\n",
        "\n",
        "\n",
        "item1 = Item(\"Ноутбук\", 1200)\n",
        "item2 = Item(\"Смартфон\", 800)\n",
        "item3 = Item(\"Навушники\", 150)\n",
        "\n",
        "\n",
        "cart.add_item(item1)\n",
        "cart.add_item(item2)\n",
        "cart.add_item(item3)\n",
        "\n",
        "\n",
        "cart.show_items()\n",
        "cart.remove_item(\"Смартфон\")\n",
        "cart.show_items()"
      ],
      "metadata": {
        "id": "HWxfJKLtNAUZ",
        "colab": {
          "base_uri": "https://localhost:8080/"
        },
        "outputId": "e76e1b25-8451-487d-c41d-abab3c115d18"
      },
      "execution_count": 14,
      "outputs": [
        {
          "output_type": "stream",
          "name": "stdout",
          "text": [
            "Додано: Ноутбук: $1200.00\n",
            "Додано: Смартфон: $800.00\n",
            "Додано: Навушники: $150.00\n",
            "Товари у кошику:\n",
            " - Ноутбук: $1200.00\n",
            " - Смартфон: $800.00\n",
            " - Навушники: $150.00\n",
            "Видалено: Смартфон: $800.00\n",
            "Товари у кошику:\n",
            " - Ноутбук: $1200.00\n",
            " - Навушники: $150.00\n"
          ]
        }
      ]
    },
    {
      "cell_type": "markdown",
      "source": [
        "10. (13б). Створіть клас Vehicle з атрибутами brand (manufacturer) та production_age. Створіть ще один клас Engine з такими атрибутами, як type (ex. petrol) та size (volume, litres). Створіть клас Car, який успадковує обидва класи Vehicle та Engine. Продемонструйте використання множинної спадковості, створивши обʼєкт класу Car та отримавши mro для цього класу."
      ],
      "metadata": {
        "id": "lmV8pAwwNIqu"
      }
    },
    {
      "cell_type": "code",
      "source": [
        "class Vehicle:\n",
        "    def __init__(self, brand, production_age):\n",
        "        self.brand = brand\n",
        "        self.production_age = production_age\n",
        "\n",
        "class Engine:\n",
        "    def __init__(self, engine_type, size):\n",
        "        self.engine_type = engine_type\n",
        "        self.size = size\n",
        "\n",
        "\n",
        "class Car(Vehicle, Engine):\n",
        "    def __init__(self, brand, production_age, engine_type, size, model):\n",
        "        Vehicle.__init__(self, brand, production_age)\n",
        "        Engine.__init__(self, engine_type, size)\n",
        "\n",
        "        self.model = model\n",
        "    def show_info(self):\n",
        "        print(f\" {self.brand} {self.model}, {self.production_age} років, двигун: {self.engine_type}, {self.size} л\")\n",
        "\n",
        "my_car = Car(\"Toyota\", 5, \"petrol\", 2.0, \"Camry\")\n",
        "\n",
        "my_car.show_info()\n",
        "\n",
        "print(\"\\nMRO для класу Car:\", Car.mro())\n"
      ],
      "metadata": {
        "id": "R49grKlWNPeN",
        "colab": {
          "base_uri": "https://localhost:8080/"
        },
        "outputId": "ff6516f7-972e-402a-bf08-3c6b37a51103"
      },
      "execution_count": 15,
      "outputs": [
        {
          "output_type": "stream",
          "name": "stdout",
          "text": [
            " Toyota Camry, 5 років, двигун: petrol, 2.0 л\n",
            "\n",
            "MRO для класу Car: [<class '__main__.Car'>, <class '__main__.Vehicle'>, <class '__main__.Engine'>, <class 'object'>]\n"
          ]
        }
      ]
    },
    {
      "cell_type": "markdown",
      "source": [
        "# II. Iterator"
      ],
      "metadata": {
        "id": "dIJyUiNBFG8G"
      }
    },
    {
      "cell_type": "markdown",
      "source": [
        "11. (4б). Визначте рядок(str) з 4ма різними за значенням символами. Створіть ітератор на основі цього рядка. Викличте 5 разів функцію next на ітераторі, 4ри перших з них огорніть у ф-цію print()."
      ],
      "metadata": {
        "id": "13vsm0NyKIzL"
      }
    },
    {
      "cell_type": "code",
      "source": [
        "\n",
        "my_string = \"abcd\"\n",
        "\n",
        "\n",
        "string_iterator = iter(my_string)\n",
        "\n",
        "\n",
        "print(next(string_iterator))  # 'a'\n",
        "print(next(string_iterator))  # 'b'\n",
        "print(next(string_iterator))  # 'c'\n",
        "print(next(string_iterator))  # 'd'\n",
        "\n",
        "\n",
        "print(next(string_iterator))"
      ],
      "metadata": {
        "id": "81ntabAkKuz-",
        "colab": {
          "base_uri": "https://localhost:8080/",
          "height": 245
        },
        "outputId": "a295fdb8-d553-4382-c9c1-d283416bfde0"
      },
      "execution_count": 16,
      "outputs": [
        {
          "output_type": "stream",
          "name": "stdout",
          "text": [
            "a\n",
            "b\n",
            "c\n",
            "d\n"
          ]
        },
        {
          "output_type": "error",
          "ename": "StopIteration",
          "evalue": "",
          "traceback": [
            "\u001b[0;31m---------------------------------------------------------------------------\u001b[0m",
            "\u001b[0;31mStopIteration\u001b[0m                             Traceback (most recent call last)",
            "\u001b[0;32m<ipython-input-16-a115af944963>\u001b[0m in \u001b[0;36m<cell line: 0>\u001b[0;34m()\u001b[0m\n\u001b[1;32m     11\u001b[0m \u001b[0;34m\u001b[0m\u001b[0m\n\u001b[1;32m     12\u001b[0m \u001b[0;34m\u001b[0m\u001b[0m\n\u001b[0;32m---> 13\u001b[0;31m \u001b[0mprint\u001b[0m\u001b[0;34m(\u001b[0m\u001b[0mnext\u001b[0m\u001b[0;34m(\u001b[0m\u001b[0mstring_iterator\u001b[0m\u001b[0;34m)\u001b[0m\u001b[0;34m)\u001b[0m\u001b[0;34m\u001b[0m\u001b[0;34m\u001b[0m\u001b[0m\n\u001b[0m",
            "\u001b[0;31mStopIteration\u001b[0m: "
          ]
        }
      ]
    },
    {
      "cell_type": "markdown",
      "source": [
        "А що якщо викликати цю ж функцію на рядку?"
      ],
      "metadata": {
        "id": "aekWHGXOLRsO"
      }
    },
    {
      "cell_type": "code",
      "source": [
        "my_string = \"abcd\"\n",
        "print(next(my_string))"
      ],
      "metadata": {
        "id": "mxATGsErLV1i"
      },
      "execution_count": null,
      "outputs": []
    },
    {
      "cell_type": "markdown",
      "source": [
        " 12. (5б). Опишіть своїми словами в одному реченні, як ви розумієте різницю між ітерабельними обʼєктами та ітераторами (можна на прикладі)."
      ],
      "metadata": {
        "id": "XwtMEopwJ4pH"
      }
    },
    {
      "cell_type": "markdown",
      "source": [
        "ОБ'єкт це контейнер, з якого можна отримати елементи по одному, а ітератор - це об'єкт, який видає ці елементи по черзі при кожному запиті"
      ],
      "metadata": {
        "id": "-sHrODc3KFn8"
      }
    },
    {
      "cell_type": "markdown",
      "source": [
        "13. (11б). Створіть клас, що має визначений Iterator Protocol та при кожному виклику next повертає назву дня тижня, поки вони не вичерпаються. Зверніть увагу, що порядок має значення."
      ],
      "metadata": {
        "id": "E9qJWmNbK8Gl"
      }
    },
    {
      "cell_type": "code",
      "source": [
        "class DaysOfWeekIterator:\n",
        "    def __init__(self):\n",
        "        self.days = [\"Понеділок\", \"Вівторок\", \"Середа\", \"Четвер\", \"П'ятниця\", \"Субота\", \"Неділя\"]\n",
        "        self.index = 0\n",
        "\n",
        "    def __iter__(self):\n",
        "        return self\n",
        "\n",
        "    def __next__(self):\n",
        "        if self.index >= len(self.days):\n",
        "            raise StopIteration\n",
        "        day = self.days[self.index]\n",
        "        self.index += 1\n",
        "        return day\n",
        "\n",
        "days_iterator = DaysOfWeekIterator()\n",
        "for day in days_iterator:\n",
        "    print(day)"
      ],
      "metadata": {
        "id": "cqx-g_RsLo6I",
        "colab": {
          "base_uri": "https://localhost:8080/"
        },
        "outputId": "6fbeef07-0d00-4f68-8f5d-2fda24a7e9a7"
      },
      "execution_count": 17,
      "outputs": [
        {
          "output_type": "stream",
          "name": "stdout",
          "text": [
            "Понеділок\n",
            "Вівторок\n",
            "Середа\n",
            "Четвер\n",
            "П'ятниця\n",
            "Субота\n",
            "Неділя\n"
          ]
        }
      ]
    },
    {
      "cell_type": "markdown",
      "source": [
        "# Вітаю! Ви велика(ий) молодець, що впоралась(вся). Похваліть себе та побалуйте чимось приємним. Я Вами пишаюся."
      ],
      "metadata": {
        "id": "Z3E3S_s1Fv7-"
      }
    }
  ]
}